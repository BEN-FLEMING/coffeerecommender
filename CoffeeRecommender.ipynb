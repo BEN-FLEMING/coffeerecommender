{
  "nbformat": 4,
  "nbformat_minor": 0,
  "metadata": {
    "colab": {
      "name": "CoffeeRecommender.ipynb",
      "provenance": [],
      "authorship_tag": "ABX9TyOEfUqO9MCN2CIQWbFM5W1D"
    },
    "kernelspec": {
      "name": "python3",
      "display_name": "Python 3"
    },
    "language_info": {
      "name": "python"
    }
  },
  "cells": [
    {
      "cell_type": "markdown",
      "metadata": {
        "id": "8Smc8j_Sf8ZU"
      },
      "source": [
        "Mount drive and import libraries\n"
      ]
    },
    {
      "cell_type": "code",
      "metadata": {
        "id": "7sG3EJq1eOlt",
        "colab": {
          "base_uri": "https://localhost:8080/"
        },
        "outputId": "f9ce6f0f-79ed-42ba-b4e4-f1c8dfe799b0"
      },
      "source": [
        "from google.colab import drive\n",
        "drive.mount('/content/drive')\n",
        "import numpy as np\n",
        "import pandas as pd\n",
        "\n",
        "import scipy\n",
        "import matplotlib.pyplot as plt\n",
        "from pylab import rcParams\n",
        "from sklearn.neighbors import KNeighborsClassifier\n",
        "from sklearn import neighbors \n",
        "from sklearn import preprocessing\n",
        "from sklearn.model_selection import train_test_split\n",
        "\n",
        "from sklearn import metrics"
      ],
      "execution_count": 6,
      "outputs": [
        {
          "output_type": "stream",
          "name": "stdout",
          "text": [
            "Drive already mounted at /content/drive; to attempt to forcibly remount, call drive.mount(\"/content/drive\", force_remount=True).\n"
          ]
        }
      ]
    },
    {
      "cell_type": "markdown",
      "metadata": {
        "id": "i4BbXVPDgIaL"
      },
      "source": [
        "Load dataset\n"
      ]
    },
    {
      "cell_type": "code",
      "metadata": {
        "id": "6mHqE8r_gL9l"
      },
      "source": [
        "training_data_path = '/content/drive/My Drive/'\n"
      ],
      "execution_count": null,
      "outputs": []
    }
  ]
}